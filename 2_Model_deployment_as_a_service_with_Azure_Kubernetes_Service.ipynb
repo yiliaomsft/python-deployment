{
 "cells": [
  {
   "cell_type": "markdown",
   "metadata": {},
   "source": [
    "## Deployment of a model as a service with Azure Kubernetes Service\n",
    "\n",
    "\n",
    "At the end of this notebook, we will have learned how to:\n",
    "\n",
    "- Deploy an already trained model as a web service using [Azure Kubernetes Service](https://docs.microsoft.com/en-us/azure/aks/concepts-clusters-workloads)\n",
    "- Monitor our new service\n",
    "- Set up a user interface which calls our service\n",
    "\n",
    "We will use the model we trained locally and registered on the Azure platform, in the [**1_Model_deployment_as_a_service_with_Azure_Container_Instances**](https://github.com/Microsoft/ComputerVisionBestPractices/blob/service_deploy/image_classification/notebooks/deployment/1_Model_deployment_as_a_service_with_Azure_Container_Instances.ipynb) notebook. We will refer to this notebook as the \"prior\" one. << CHANGE LINK TO VERSION IN MASTER BRANCH"
   ]
  },
  {
   "cell_type": "markdown",
   "metadata": {},
   "source": [
    "### Pre-requisites\n",
    "\n",
    "We assume here that our local environment and Azure subscription are already set up (cf. [details](https://github.com/Microsoft/ComputerVisionBestPractices/blob/service_deploy/image_classification/notebooks/deployment/1_Model_deployment_as_a_service_with_Azure_Container_Instances.ipynb)). << CHANGE LINK TO VERSION IN MASTER BRANCH"
   ]
  },
  {
   "cell_type": "markdown",
   "metadata": {},
   "source": [
    "### Library import"
   ]
  },
  {
   "cell_type": "code",
   "execution_count": 1,
   "metadata": {},
   "outputs": [],
   "source": [
    "# For automatic reloading of modified libraries\n",
    "%reload_ext autoreload\n",
    "%autoreload 2\n",
    "\n",
    "# Regular python libraries\n",
    "import os\n",
    "import requests\n",
    "import sys\n",
    "\n",
    "# fastai\n",
    "from fastai.vision import *\n",
    "\n",
    "# Azure\n",
    "import azureml.core\n",
    "from azureml.core import Workspace\n",
    "from azureml.core.compute import AksCompute, ComputeTarget\n",
    "from azureml.core.webservice import AksWebservice, Webservice\n",
    "\n",
    "# Computer Vision repository\n",
    "sys.path.append(\"../../\")\n",
    "from utils_ic.image_conversion import image2json\n",
    "sys.path.append(\"../../../\")\n",
    "from utils_cv.azure_setup_tools import setup_workspace"
   ]
  },
  {
   "cell_type": "markdown",
   "metadata": {},
   "source": [
    "### Azure workspace"
   ]
  },
  {
   "cell_type": "code",
   "execution_count": 3,
   "metadata": {},
   "outputs": [
    {
     "name": "stdout",
     "output_type": "stream",
     "text": [
      "Found the config file in: C:\\Users\\alteste\\Repos\\ComputerVisionBestPractices\\image_classification\\notebooks\\deployment\\aml_config\\config.json\n"
     ]
    }
   ],
   "source": [
    "ws = setup_workspace()"
   ]
  },
  {
   "cell_type": "code",
   "execution_count": 4,
   "metadata": {},
   "outputs": [
    {
     "name": "stdout",
     "output_type": "stream",
     "text": [
      "Workspace name: ws2_tutorials2\n",
      "Azure region: eastus2\n",
      "Subscription id: b8c23406-f9b5-4ccb-8a65-a8cb5dcd6a5a\n",
      "Resource group: alteste-rg\n"
     ]
    }
   ],
   "source": [
    "# Print the workspace attributes\n",
    "print('Workspace name: ' + ws.name, \n",
    "      'Azure region: ' + ws.location, \n",
    "      'Subscription id: ' + ws.subscription_id, \n",
    "      'Resource group: ' + ws.resource_group, sep = '\\n')"
   ]
  },
  {
   "cell_type": "markdown",
   "metadata": {},
   "source": [
    "Let's start by loading the working space which information we saved in our aml_config/config.json file"
   ]
  },
  {
   "cell_type": "code",
   "execution_count": 5,
   "metadata": {},
   "outputs": [
    {
     "name": "stdout",
     "output_type": "stream",
     "text": [
      "Found the config file in: C:\\Users\\alteste\\Repos\\ComputerVisionBestPractices\\image_classification\\notebooks\\deployment\\aml_config\\config.json\n"
     ]
    }
   ],
   "source": [
    "ws = Workspace.from_config()"
   ]
  },
  {
   "cell_type": "markdown",
   "metadata": {},
   "source": [
    "Let's check that the workspace is properly loaded"
   ]
  },
  {
   "cell_type": "code",
   "execution_count": 6,
   "metadata": {},
   "outputs": [
    {
     "name": "stdout",
     "output_type": "stream",
     "text": [
      "Workspace name: ws2_tutorials2\n",
      "Azure region: eastus2\n",
      "Subscription id: b8c23406-f9b5-4ccb-8a65-a8cb5dcd6a5a\n",
      "Resource group: alteste-rg\n"
     ]
    }
   ],
   "source": [
    "# Print the workspace attributes\n",
    "print('Workspace name: ' + ws.name, \n",
    "      'Azure region: ' + ws.location, \n",
    "      'Subscription id: ' + ws.subscription_id, \n",
    "      'Resource group: ' + ws.resource_group, sep = '\\n')"
   ]
  },
  {
   "cell_type": "markdown",
   "metadata": {},
   "source": [
    "### Model retrieval\n",
    "\n",
    "To deploy a model as a service, we need to be aware of what that model is. In the [prior notebook](https://github.com/Microsoft/ComputerVisionBestPractices/blob/service_deploy/image_classification/notebooks/deployment/1_Model_deployment_as_a_service_with_Azure_Container_Instances.ipynb), we defined our `model` object as the output of the `runner.register_model()` method.\n",
    "\n",
    "Here, since we have already registered our model, we only need to get it from our workspace context.\n",
    "\n",
    "> Note: If several versions of a same model exist, the version that gets retrieved is the latest one."
   ]
  },
  {
   "cell_type": "code",
   "execution_count": 7,
   "metadata": {},
   "outputs": [
    {
     "data": {
      "text/plain": [
       "{'im_classif_fridge_obj': <azureml.core.model.Model at 0x1aa5413ef28>,\n",
       " 'image_classif_model_f44': <azureml.core.model.Model at 0x1aa5413e940>}"
      ]
     },
     "execution_count": 7,
     "metadata": {},
     "output_type": "execute_result"
    }
   ],
   "source": [
    "# List of all models registered under this workspace\n",
    "ws.models"
   ]
  },
  {
   "cell_type": "code",
   "execution_count": 8,
   "metadata": {},
   "outputs": [],
   "source": [
    "# Model we are interested in\n",
    "model = ws.models['im_classif_fridge_obj']"
   ]
  },
  {
   "cell_type": "code",
   "execution_count": 9,
   "metadata": {},
   "outputs": [
    {
     "name": "stdout",
     "output_type": "stream",
     "text": [
      "Existing model:\n",
      " --> Name: im_classif_fridge_obj\n",
      " --> Version: 6\n",
      " --> ID: im_classif_fridge_obj:6       \n",
      " --> Creation time: 2019-03-16 01:37:44.294793+00:00\n",
      " --> URL: aml://asset/4e8f67d3a5204f46b888b5868d7c417d\n",
      " --> Properties: {}\n"
     ]
    }
   ],
   "source": [
    "print(\"Existing model:\\n --> Name: {}\\n --> Version: {}\\n --> ID: {} \\\n",
    "      \\n --> Creation time: {}\\n --> URL: {}\\n --> Properties: {}\"\n",
    "      .format(model.name, model.version, model.id, model.created_time, \n",
    "              model.url, model.properties))"
   ]
  },
  {
   "cell_type": "markdown",
   "metadata": {},
   "source": [
    "### Azure Kubernetes Service\n",
    "\n",
    "#### 1. Docker image\n",
    "\n",
    "As for the deployment on Azure Container Instances, we will use Docker containers. The Docker image we created in the prior notebook is very much suitable for our deployment on Azure Kubernetes Service, as it contains the libraries we need and the model we trained. Let's make sure this Docker image is still available (if not, we can just run the cells in \"2.\" and \"3.\" of the \"Model deployment on Azure\" section of the [prior notebook](https://github.com/Microsoft/ComputerVisionBestPractices/blob/service_deploy/image_classification/notebooks/deployment/1_Model_deployment_as_a_service_with_Azure_Container_Instances.ipynb))."
   ]
  },
  {
   "cell_type": "code",
   "execution_count": 10,
   "metadata": {},
   "outputs": [
    {
     "name": "stdout",
     "output_type": "stream",
     "text": [
      "Docker images:\n",
      " --> Name: image-classif-resnet50-f44\n",
      " --> ID: image-classif-resnet50-f44:5\n",
      " --> Tags: {'area': 'tableware', 'type': 'CNN resnet50'}\n",
      " --> Creation time: 2019-03-16 01:58:01.916622+00:00\n",
      "\n"
     ]
    }
   ],
   "source": [
    "print(\"Docker images:\")\n",
    "for docker_im in ws.images:    \n",
    "    print(\" --> Name: {}\\n --> ID: {}\\n --> Tags: {}\\n --> Creation time: {}\\n\"\n",
    "          .format(ws.images[docker_im].name, ws.images[docker_im].id, \n",
    "                  ws.images[docker_im].tags, ws.images[docker_im].created_time))"
   ]
  },
  {
   "cell_type": "code",
   "execution_count": 11,
   "metadata": {},
   "outputs": [],
   "source": [
    "docker_image = ws.images[\"image-classif-resnet50-f44\"]"
   ]
  },
  {
   "cell_type": "markdown",
   "metadata": {},
   "source": [
    "For our service to be able to score new images, it needs not only a model, but also computational resources.\n",
    "\n",
    "If we already have a Kubernetes-managed cluster in this workspace, we can find and use it, otherwise, we can create a new one.\n",
    "\n",
    "> Note: The name we give to our compute target must be between 2 and 16 characters long."
   ]
  },
  {
   "cell_type": "markdown",
   "metadata": {},
   "source": [
    "#### 2. AKS compute target creation"
   ]
  },
  {
   "cell_type": "code",
   "execution_count": 12,
   "metadata": {},
   "outputs": [
    {
     "name": "stdout",
     "output_type": "stream",
     "text": [
      "Our AKS computer target's name is: imgclass-aks-gpu\n"
     ]
    }
   ],
   "source": [
    "virtual_machine_type = 'gpu'\n",
    "aks_name = 'imgclass-aks-{}'.format(virtual_machine_type)\n",
    "\n",
    "if aks_name not in ws.compute_targets:\n",
    "    compute_name = os.environ.get(\"AKS_COMPUTE_CLUSTER_NAME\", aks_name)\n",
    "\n",
    "    if virtual_machine_type == 'gpu':\n",
    "        vm_size_name =\"Standard_NC6\"\n",
    "    else:\n",
    "        vm_size_name = \"Standard_D3_v2\"\n",
    "    vm_size = os.environ.get(\"AKS_COMPUTE_CLUSTER_SKU\", vm_size_name)\n",
    "\n",
    "print(\"Our AKS computer target's name is: {}\".format(aks_name))"
   ]
  },
  {
   "cell_type": "code",
   "execution_count": 13,
   "metadata": {},
   "outputs": [],
   "source": [
    "# Use the default configuration (can also provide parameters to customize)\n",
    "# Full list available at https://docs.microsoft.com/en-us/python/api/azureml-core/azureml.core.compute.akscompute?view=azure-ml-py#provisioning-configuration-agent-count-none--vm-size-none--ssl-cname-none--ssl-cert-pem-file-none--ssl-key-pem-file-none--location-none--vnet-resourcegroup-name-none--vnet-name-none--subnet-name-none--service-cidr-none--dns-service-ip-none--docker-bridge-cidr-none-\n",
    "if aks_name not in ws.compute_targets:\n",
    "    prov_config = AksCompute.provisioning_configuration(vm_size = vm_size)"
   ]
  },
  {
   "cell_type": "code",
   "execution_count": 14,
   "metadata": {},
   "outputs": [
    {
     "name": "stdout",
     "output_type": "stream",
     "text": [
      "We retrieved the imgclass-aks-gpu AKS compute target\n",
      "Wall time: 1.82 s\n"
     ]
    }
   ],
   "source": [
    "%%time\n",
    "if aks_name not in ws.compute_targets:\n",
    "    # Create the cluster\n",
    "    aks_target = ComputeTarget.create(workspace = ws, \n",
    "                                      name = aks_name, \n",
    "                                      provisioning_configuration = prov_config)\n",
    "    aks_target.wait_for_completion(show_output = True)\n",
    "else:\n",
    "    # Retrieve the already existing cluster\n",
    "    aks_target = ws.compute_targets[aks_name]\n",
    "    print(\"We retrieved the {} AKS compute target\".format(aks_target.name))"
   ]
  },
  {
   "cell_type": "markdown",
   "metadata": {},
   "source": [
    "This compute target can be seen on the Azure portal, under the Compute tab.\n",
    "\n",
    "<img src=\"screenshots/aks_compute_target.jpg\" width=\"900\">"
   ]
  },
  {
   "cell_type": "code",
   "execution_count": 15,
   "metadata": {},
   "outputs": [
    {
     "name": "stdout",
     "output_type": "stream",
     "text": [
      "The AKS compute target provisioning succeeded -- There were None errors\n"
     ]
    }
   ],
   "source": [
    "# Check provisioning status\n",
    "print(\"The AKS compute target provisioning {} -- There were {} errors\"\n",
    "      .format(aks_target.provisioning_state.lower(), aks_target.provisioning_errors))"
   ]
  },
  {
   "cell_type": "markdown",
   "metadata": {},
   "source": [
    "#### 3. Monitoring activation\n",
    "\n",
    "Once our web app is up and running, it is very important to monitor it, and measure the amount of traffic it gets, how long it takes to respond, the type of exceptions that get raised, etc. We will do so through [Application Insights](https://docs.microsoft.com/en-us/azure/azure-monitor/app/app-insights-overview), which is an application performance management service. To enable it, we first need to update our AKS configuration file:"
   ]
  },
  {
   "cell_type": "code",
   "execution_count": 16,
   "metadata": {},
   "outputs": [],
   "source": [
    "# Set the web service configuration\n",
    "aks_config = AksWebservice.deploy_configuration(enable_app_insights=True)"
   ]
  },
  {
   "cell_type": "markdown",
   "metadata": {},
   "source": [
    "#### 4. Service deployment"
   ]
  },
  {
   "cell_type": "code",
   "execution_count": 17,
   "metadata": {},
   "outputs": [
    {
     "name": "stdout",
     "output_type": "stream",
     "text": [
      "Creating service\n",
      "Running........................\n",
      "SucceededAKS service creation operation finished, operation \"Succeeded\"\n",
      "Healthy\n"
     ]
    }
   ],
   "source": [
    "if aks_target.provisioning_state== \"Succeeded\": \n",
    "    aks_service_name ='aks-image-classif-web-svc'\n",
    "    aks_service = Webservice.deploy_from_image(workspace = ws, \n",
    "                                               name = aks_service_name,\n",
    "                                               image = docker_image,\n",
    "                                               deployment_config = aks_config,\n",
    "                                               deployment_target = aks_target\n",
    "                                               )\n",
    "    aks_service.wait_for_deployment(show_output = True)\n",
    "    print(aks_service.state)\n",
    "else:\n",
    "    raise ValueError(\"AKS provisioning failed.\")"
   ]
  },
  {
   "cell_type": "code",
   "execution_count": null,
   "metadata": {},
   "outputs": [],
   "source": [
    "# Access to the service logs\n",
    "# print(aks_service.get_logs())"
   ]
  },
  {
   "cell_type": "markdown",
   "metadata": {},
   "source": [
    "The new deployment can be seen on the portal, under the Deployments tab.\n",
    "\n",
    "<img src=\"screenshots/aks_webservice.jpg\" width=\"900\">"
   ]
  },
  {
   "cell_type": "markdown",
   "metadata": {},
   "source": [
    "#### 5. Testing of the service"
   ]
  },
  {
   "cell_type": "markdown",
   "metadata": {},
   "source": [
    "##### 5a. Using the `run` API\n",
    "\n",
    "As in the previous notebook, we first convert our test images into JSON serializable data. We then run them through our service."
   ]
  },
  {
   "cell_type": "code",
   "execution_count": 18,
   "metadata": {},
   "outputs": [],
   "source": [
    "# Conversion of image into JSON serializable object\n",
    "current_directory = os.getcwd()\n",
    "images_fname_list = [os.path.join('test_images', 'im_11.jpg'), os.path.join('test_images', 'im_97.jpg')]\n",
    "test_samples = image2json(images_fname_list, current_directory)"
   ]
  },
  {
   "cell_type": "code",
   "execution_count": 19,
   "metadata": {},
   "outputs": [],
   "source": [
    "# Prediction using the deployed model\n",
    "if aks_service.state == \"Healthy\":\n",
    "    result = aks_service.run(input_data=test_samples)  # This takes several seconds\n",
    "else:\n",
    "    raise ValueError(\"Service deployment isn't healthy, can't call the service\")"
   ]
  },
  {
   "cell_type": "code",
   "execution_count": 21,
   "metadata": {},
   "outputs": [
    {
     "data": {
      "image/png": "[encoded data removed]",
      "text/plain": [
       "<Figure size 216x216 with 1 Axes>"
      ]
     },
     "metadata": {
      "needs_background": "light"
     },
     "output_type": "display_data"
    },
    {
     "data": {
      "image/png": "[encoded data removed]",
      "text/plain": [
       "<Figure size 216x216 with 1 Axes>"
      ]
     },
     "metadata": {
      "needs_background": "light"
     },
     "output_type": "display_data"
    }
   ],
   "source": [
    "# Plots of the results\n",
    "actual_labels = ['milk_bottle', 'water_bottle']\n",
    "for k in range(0, len(result)):\n",
    "    title = \"{}/{} - {}%\".format(actual_labels[k], result[k]['label'], \n",
    "                                 round(100.*float(result[k]['probability']), 2))\n",
    "    open_image(images_fname_list[k]).show(title=title)"
   ]
  },
  {
   "cell_type": "markdown",
   "metadata": {},
   "source": [
    "##### 5b. Via an HTTP request\n",
    "\n",
    "Deploying a model as a web service creates a REST API. We can then call that API outside of our current workspace and notebook. For that, we need:\n",
    "- The web service's URL\n",
    "- One of the authentication keys.\n",
    "\n",
    "By default, authentication is enabled when deploying models to Azure Kubernetes Service. We can the retrieve both pieces of information easily. "
   ]
  },
  {
   "cell_type": "code",
   "execution_count": 22,
   "metadata": {},
   "outputs": [
    {
     "name": "stdout",
     "output_type": "stream",
     "text": [
      "Send POST requests to: http://104.209.233.179/api/v1/service/aks-image-classif-web-svc/score\n",
      "Keys to use when calling the service from an external app: ['ymltwgdypOs7Xg7O7oOMtVNLf0cfOwDE', 'HsaS3Dp1tGkpekeS2QnVnBvqlwYLpGgF']\n"
     ]
    }
   ],
   "source": [
    "# Service URL\n",
    "service_url = aks_service.scoring_uri\n",
    "print(\"Send POST requests to: {}\".format(service_url))\n",
    "\n",
    "# Authentication keys\n",
    "primary, secondary = aks_service.get_keys()\n",
    "print(\"Keys to use when calling the service from an external app: {}\".format([primary, secondary]))"
   ]
  },
  {
   "cell_type": "code",
   "execution_count": 23,
   "metadata": {},
   "outputs": [
    {
     "name": "stdout",
     "output_type": "stream",
     "text": [
      "Predictions: [{\"label\": \"milk_bottle\", \"probability\": \"0.9977195858955383\"}, {\"label\": \"water_bottle\", \"probability\": \"0.9989380240440369\"}]\n"
     ]
    }
   ],
   "source": [
    "# Send the same test data\n",
    "if aks_service.state == \"Healthy\":\n",
    "\n",
    "    key = aks_service.get_keys()[0]\n",
    "    # Set the content type\n",
    "    headers = { 'Content-Type':'application/json' }\n",
    "    # Set the authorization header\n",
    "    headers['Authorization']=f'Bearer {key}'\n",
    "    \n",
    "    # Send the request\n",
    "    resp = requests.post(service_url, test_samples, headers=headers)\n",
    "\n",
    "    print(\"Predictions: {}\".format(resp.text))"
   ]
  },
  {
   "cell_type": "markdown",
   "metadata": {},
   "source": [
    "##### 5c. Using a user interface -- Locally\n",
    "\n",
    "This notebook is accompanied by 3 files:\n",
    "- file_uploader.py  <<< REPLACE WITH APPLICATION.PY\n",
    "- templates/index.html\n",
    "- templates/template.html\n",
    "\n",
    "They construct a Flask application that will allow us to test that our service is working as we expect.\n",
    "\n",
    "We can run this test in 2 different ways:\n",
    "1. From a terminal window, in our conda environment\n",
    "2. From within this notebook\n",
    "\n",
    "###### - From the terminal -\n",
    "To run the Flask application from our local machine, we need to:\n",
    "- Copy the 3 files on our machine\n",
    "- Run `python file_uploader.py 'webservice_url' 'authentication_key'`, where <font color=green>webservice_url</font> and <font color=green>authentication_key</font> should be replaced by the values we obtained above\n",
    "\n",
    "This returns a URL (typically http :// 127.0.0.1:5000). Clicking on it brings us to a file uploader webpage.\n",
    "\n",
    "If our service works as expected, after a few seconds, we can see the results presented in a table. CHANGE THE RESULTS WHEN HAVE THOSE WITH NEW DATASET\n",
    "\n",
    "<img src=\"screenshots/file_uploader_webpage.jpg\" width=\"500\" align=\"left\">\n",
    "<img src=\"screenshots/predictions.jpg\" width=\"400\" align=\"center\">\n",
    "\n",
    "> Notes:\n",
    "- Depending on the size of the uploaded images, the service may or may not provide a response. It is best to send a few small images, i.e. 3-5 images a few kB each.\n",
    "- The uploader function creates an uploads/ folder in our working directory, which contains the images we uploaded.\n",
    "\n",
    "###### - From this notebook -\n",
    "Here, we use a built-in magic command `%run`. The experience is then the same.\n",
    "\n",
    "To end the test, we just need to hit \"Ctrl+C\" in the terminal or the \"Stop\" (square) button in the notebook."
   ]
  },
  {
   "cell_type": "code",
   "execution_count": 24,
   "metadata": {},
   "outputs": [
    {
     "name": "stdout",
     "output_type": "stream",
     "text": [
      " * Serving Flask app \"file_uploader\" (lazy loading)\n",
      " * Environment: production\n",
      "   WARNING: Do not use the development server in a production environment.\n",
      "   Use a production WSGI server instead.\n",
      " * Debug mode: off\n"
     ]
    },
    {
     "name": "stderr",
     "output_type": "stream",
     "text": [
      " * Running on http://127.0.0.1:5000/ (Press CTRL+C to quit)\n"
     ]
    }
   ],
   "source": [
    "# Built-in magic command to run our Flask application\n",
    "# Note: \"$\" in front of our variables names returns their content\n",
    "%run -i file_uploader.py $service_url $key"
   ]
  },
  {
   "cell_type": "markdown",
   "metadata": {},
   "source": [
    "Let's click on the url and upload images several times, so we can better see the server's response in the next section."
   ]
  },
  {
   "cell_type": "code",
   "execution_count": null,
   "metadata": {},
   "outputs": [],
   "source": [
    "# Once we are done, let's not forget to end the test (Ctrl+C or Stop button)"
   ]
  },
  {
   "cell_type": "markdown",
   "metadata": {},
   "source": [
    "##### 5d. Using a user interface - Online"
   ]
  },
  {
   "cell_type": "code",
   "execution_count": null,
   "metadata": {},
   "outputs": [],
   "source": [
    ">>> ADD SOMETHING ABOUT APP LOGICS HERE"
   ]
  },
  {
   "cell_type": "code",
   "execution_count": null,
   "metadata": {},
   "outputs": [],
   "source": [
    "aks_service.swagger_uri"
   ]
  },
  {
   "cell_type": "code",
   "execution_count": null,
   "metadata": {},
   "outputs": [],
   "source": []
  },
  {
   "cell_type": "markdown",
   "metadata": {},
   "source": [
    "#### 6. Service telemetry in [Application Insights](https://docs.microsoft.com/en-us/azure/azure-monitor/app/app-insights-overview)\n",
    "\n",
    "In the [Azure portal](https://portal.azure.com):\n",
    "- Let's navigate to \"All resources\"\n",
    "- Select our subscription and resource group that contain our workspace\n",
    "- Select the Application Insights type associated with our workspace\n",
    "  * _If we have several, we can still go back to our workspace (in the portal) and click on \"Overview\" - This shows the elements associated with our workspace, in particular our Application Insights_\n",
    "- Click on the App Insights resource: There, we can see a high level dashboard with information on successful and failed requests, server response time and availability\n",
    "- Click on the \"Server requests\" graph\n",
    "- In the \"View in Analytics\" drop-down, select \"Request count\" in the \"Analytics\" section: This displays the specific query ran against the service logs to extract the number of executed requests (successful or not).\n",
    "- Still in the \"Logs\" page, click on the eye icon next to \"requests\" on the \"Schema\"/left pane, and on \"Table\" on the right one:\n",
    "  * This shows the list of calls to the service, with their success statuses, durations, and other metrics. This table is especially useful to investigate problematic requests.\n",
    "  * Results can also be visualized as a graph by clicking on the \"Chart\" tab. Metrics are plotted by default, but we can change them by clicking on one of the field name drop-downs.\n",
    "- Navigate across the different queries we ran through the different \"New Query X\" tabs.\n",
    "\n",
    "<img src=\"screenshots/webservice_performance_metrics.jpg\" width=\"400\" align=\"left\">\n",
    "<img src=\"screenshots/application_insights_all_charts.jpg\" width=\"500\" align=\"center\">\n",
    "\n",
    "<br><br>\n",
    "<img src=\"screenshots/failures_requests_line_chart.jpg\" width=\"500\" align=\"right\">\n",
    "<img src=\"screenshots/all_requests_line_chart.jpg\" width=\"400\" align=\"left\">\n",
    "\n",
    "<br><br>\n",
    "<img src=\"screenshots/logs_failed_request_details.jpg\" width=\"500\" align=\"right\">\n",
    "<img src=\"screenshots/success_status_bar_chart.jpg\" width=\"450\" align=\"left\">\n",
    "\n"
   ]
  },
  {
   "cell_type": "markdown",
   "metadata": {},
   "source": [
    "### Clean up"
   ]
  },
  {
   "cell_type": "markdown",
   "metadata": {},
   "source": [
    "In a real-life scenario, it is likely that the service we created would need to be up and running at all times. However, in the present demonstrative case, and now that we have verified that our service works, we can delete it as well as all the resources we used."
   ]
  },
  {
   "cell_type": "markdown",
   "metadata": {},
   "source": [
    "#### Application Insights deactivation"
   ]
  },
  {
   "cell_type": "code",
   "execution_count": null,
   "metadata": {},
   "outputs": [],
   "source": [
    "aks_service.update(enable_app_insights=False)"
   ]
  },
  {
   "cell_type": "markdown",
   "metadata": {},
   "source": [
    "#### Service termination"
   ]
  },
  {
   "cell_type": "code",
   "execution_count": null,
   "metadata": {},
   "outputs": [],
   "source": [
    "aks_service.delete()"
   ]
  },
  {
   "cell_type": "markdown",
   "metadata": {},
   "source": [
    "#### Image deletion"
   ]
  },
  {
   "cell_type": "code",
   "execution_count": null,
   "metadata": {},
   "outputs": [],
   "source": [
    "image.delete()"
   ]
  }
 ],
 "metadata": {
  "jupytext": {
   "formats": "ipynb,py:light"
  },
  "kernelspec": {
   "display_name": "Python 3",
   "language": "python",
   "name": "python3"
  },
  "language_info": {
   "codemirror_mode": {
    "name": "ipython",
    "version": 3
   },
   "file_extension": ".py",
   "mimetype": "text/x-python",
   "name": "python",
   "nbconvert_exporter": "python",
   "pygments_lexer": "ipython3",
   "version": "3.6.8"
  }
 },
 "nbformat": 4,
 "nbformat_minor": 2
}
